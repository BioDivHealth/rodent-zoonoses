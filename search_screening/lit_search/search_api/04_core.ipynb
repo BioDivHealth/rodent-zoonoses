{
 "cells": [
  {
   "cell_type": "code",
   "execution_count": null,
   "id": "bdf9f69f-a5d6-4f87-928d-6e2db9597610",
   "metadata": {},
   "outputs": [],
   "source": []
  },
  {
   "cell_type": "code",
   "execution_count": null,
   "id": "0d1b1145-d580-4934-95b6-f87df19118b0",
   "metadata": {},
   "outputs": [],
   "source": [
    "def aggregations(query, aggregation_fields,entity_type=\"works\", limit=20, cache=True):\n",
    "    headers={\"Authorization\":\"Bearer \"+api_key}\n",
    "\n",
    "    query = {\"q\":query,\"aggregations\":aggregation_fields, \"limit\":limit}\n",
    "    querystring = json.dumps(query).encode('utf-8')\n",
    "    filename = f\"cache/{hashlib.md5(querystring).hexdigest()}.csv\"\n",
    "    responseObject = {}\n",
    "    if cache and os.path.exists(filename):\n",
    "        with open (filename, \"r\") as cached:\n",
    "            responseObject=json.loads(cached.readlines()[0].strip())\n",
    "    else:\n",
    "        response = requests.post(f\"{api_endpoint}search/{entity_type}/aggregate\",data = json.dumps(query), headers=headers)\n",
    "        responseObject = response.json()\n",
    "        with open (filename, \"w\") as cached:\n",
    "            cached.write(json.dumps(responseObject))\n",
    "        \n",
    "    return responseObject"
   ]
  },
  {
   "cell_type": "code",
   "execution_count": null,
   "id": "727b0b4b-537e-45ef-90ab-99c539d77e05",
   "metadata": {},
   "outputs": [],
   "source": [
    "query = f\"covid AND yearPublished>=2010 AND yearPublished<=2021\"\n",
    "aggregation_response = aggregations(query, aggregation_fields=[\"yearPublished\"],entity_type=\"works\", limit=20)\n",
    "pretty_json(aggregation_response)\n",
    "year_data = aggregation_response[\"aggregations\"][\"yearPublished\"]\n",
    "years = pandas.DataFrame(list(year_data.items()), columns=[\"year\", \"records\"]) \n",
    "years = years.sort_values(\"year\", ascending=True)\n",
    "ax = sns.barplot(x=\"year\", y=\"records\", data=years)"
   ]
  }
 ],
 "metadata": {
  "kernelspec": {
   "display_name": "litsearch",
   "language": "python",
   "name": "litsearch"
  },
  "language_info": {
   "codemirror_mode": {
    "name": "ipython",
    "version": 3
   },
   "file_extension": ".py",
   "mimetype": "text/x-python",
   "name": "python",
   "nbconvert_exporter": "python",
   "pygments_lexer": "ipython3",
   "version": "3.12.2"
  }
 },
 "nbformat": 4,
 "nbformat_minor": 5
}
