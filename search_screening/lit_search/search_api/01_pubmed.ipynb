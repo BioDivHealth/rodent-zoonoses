{
 "cells": [
  {
   "cell_type": "code",
   "execution_count": 1,
   "id": "f04ac761-a0f6-4c35-a271-8dc9140c442b",
   "metadata": {},
   "outputs": [],
   "source": [
    "import numpy as np\n",
    "import pandas as pd\n",
    "from pymed import PubMed"
   ]
  },
  {
   "cell_type": "code",
   "execution_count": 2,
   "id": "117fd92e-cbec-4689-8694-6186e882656c",
   "metadata": {},
   "outputs": [],
   "source": [
    "pubmed = PubMed(tool=\"LitSearch\", email=\"harry.gordon@nhm.ac.uk\")\n",
    "results = pubmed.query('(West Africa) AND ((Rodent) OR (Rodent trap) AND ((\"1900/01/01\"[Date - Publication] : \"2022/05/01\"[Date - Publication])))', max_results=3000)"
   ]
  },
  {
   "cell_type": "code",
   "execution_count": 3,
   "id": "ca49b81a-ed72-4c50-b7a1-5525623a9a33",
   "metadata": {},
   "outputs": [],
   "source": [
    "doi = []\n",
    "authors = []\n",
    "title = []\n",
    "keywords = []\n",
    "publication_date = []\n",
    "abstract = []\n",
    "journal = []\n",
    "\n",
    "for article in results:\n",
    "    doi.append(article.doi)\n",
    "    authors.append(article.authors)\n",
    "    title.append(article.title)\n",
    "    #if article.keywords:\n",
    "       # if None in article.keywords:\n",
    "         #   article.keywords.remove(None)\n",
    "        #keywords = '\", \"'.join(article.keywords)\n",
    "    publication_date.append(article.publication_date)\n",
    "    abstract.append(article.abstract)\n",
    "    #journal.append(article.journal)\n",
    "\n",
    "\n",
    "df = pd.DataFrame({'doi':doi,\n",
    "                   'authors':authors,\n",
    "                   'title':title,\n",
    "                   #'keywords':keywords,\n",
    "                   'year':publication_date,\n",
    "                   'abstract':abstract#,'journal':journal\n",
    "                  })"
   ]
  },
  {
   "cell_type": "code",
   "execution_count": 4,
   "id": "2542b6a5-d179-478f-b4a8-af92ef9b4bfc",
   "metadata": {},
   "outputs": [
    {
     "data": {
      "text/plain": [
       "2474"
      ]
     },
     "execution_count": 4,
     "metadata": {},
     "output_type": "execute_result"
    }
   ],
   "source": [
    "len(df)"
   ]
  },
  {
   "cell_type": "code",
   "execution_count": 13,
   "id": "77a78d76-8978-4282-9b5e-2c247c335702",
   "metadata": {},
   "outputs": [
    {
     "name": "stdout",
     "output_type": "stream",
     "text": [
      "doi         385\n",
      "authors       0\n",
      "title         0\n",
      "year          0\n",
      "abstract    282\n",
      "dtype: int64\n"
     ]
    }
   ],
   "source": [
    "print(df.isna().sum())"
   ]
  },
  {
   "cell_type": "code",
   "execution_count": 5,
   "id": "f1f89949-66dd-4fe6-aed7-e1b0a15d627c",
   "metadata": {},
   "outputs": [
    {
     "data": {
      "text/plain": [
       "2163"
      ]
     },
     "execution_count": 5,
     "metadata": {},
     "output_type": "execute_result"
    }
   ],
   "source": [
    "df = df.dropna()\n",
    "len(df)"
   ]
  },
  {
   "cell_type": "code",
   "execution_count": 6,
   "id": "0b951a84-519b-4746-9c9b-1b7202d91040",
   "metadata": {},
   "outputs": [],
   "source": [
    "df1 = pd.read_csv(\"included_studies.csv\")\n",
    "df1['link'] = df1['link'].str.replace(\"https://\", \"\")\n",
    "df1['link'] = df1['link'].str.replace(\"http://\", \"\")\n",
    "df1 = [row for row in df1[\"link\"] if row[:3] == \"doi\"]\n",
    "df1 = [w.replace('doi.org/', '') for w in df1]"
   ]
  },
  {
   "cell_type": "code",
   "execution_count": 14,
   "id": "297baa5e-fd04-4905-9be9-142ac2e4b76a",
   "metadata": {},
   "outputs": [
    {
     "data": {
      "text/plain": [
       "25"
      ]
     },
     "execution_count": 14,
     "metadata": {},
     "output_type": "execute_result"
    }
   ],
   "source": [
    "rslt_df = df[df['doi'].isin(df1)] \n",
    "len(rslt_df)"
   ]
  },
  {
   "cell_type": "code",
   "execution_count": 18,
   "id": "d454b282-fe63-4d36-aece-6276fe72d9d4",
   "metadata": {},
   "outputs": [
    {
     "data": {
      "text/html": [
       "<div>\n",
       "<style scoped>\n",
       "    .dataframe tbody tr th:only-of-type {\n",
       "        vertical-align: middle;\n",
       "    }\n",
       "\n",
       "    .dataframe tbody tr th {\n",
       "        vertical-align: top;\n",
       "    }\n",
       "\n",
       "    .dataframe thead th {\n",
       "        text-align: right;\n",
       "    }\n",
       "</style>\n",
       "<table border=\"1\" class=\"dataframe\">\n",
       "  <thead>\n",
       "    <tr style=\"text-align: right;\">\n",
       "      <th></th>\n",
       "      <th>doi</th>\n",
       "      <th>authors</th>\n",
       "      <th>title</th>\n",
       "      <th>publication_date</th>\n",
       "      <th>abstract</th>\n",
       "      <th>data_avail</th>\n",
       "    </tr>\n",
       "  </thead>\n",
       "  <tbody>\n",
       "    <tr>\n",
       "      <th>0</th>\n",
       "      <td>10.1051/parasite/2024009</td>\n",
       "      <td>[{'lastname': 'Juban', 'firstname': 'Paola', '...</td>\n",
       "      <td>Trypanosoma brucei gambiense group 2 experimen...</td>\n",
       "      <td>2024-03-23</td>\n",
       "      <td>Trypanosoma brucei gambiense (Tbg) group 2 is ...</td>\n",
       "      <td>no</td>\n",
       "    </tr>\n",
       "    <tr>\n",
       "      <th>1</th>\n",
       "      <td>10.1002/jnr.25320</td>\n",
       "      <td>[{'lastname': 'Marx', 'firstname': 'Harry', 'i...</td>\n",
       "      <td>Large nesting expression in deer mice remains ...</td>\n",
       "      <td>2024-03-21</td>\n",
       "      <td>Visual stimuli and limbic activation varyingly...</td>\n",
       "      <td>no</td>\n",
       "    </tr>\n",
       "    <tr>\n",
       "      <th>2</th>\n",
       "      <td>10.1016/j.pestbp.2023.105767</td>\n",
       "      <td>[{'lastname': 'Takeda', 'firstname': 'Kazuki',...</td>\n",
       "      <td>Sensitivity assessment of diphacinone by pharm...</td>\n",
       "      <td>2024-03-09</td>\n",
       "      <td>The Bonin Archipelago is a United Nations Educ...</td>\n",
       "      <td>no</td>\n",
       "    </tr>\n",
       "    <tr>\n",
       "      <th>3</th>\n",
       "      <td>10.1016/j.ejphar.2024.176434</td>\n",
       "      <td>[{'lastname': 'Bernardus Saayman', 'firstname'...</td>\n",
       "      <td>Sildenafil, alone and in combination with imip...</td>\n",
       "      <td>2024-03-09</td>\n",
       "      <td>Major depressive disorder (MDD) represents a c...</td>\n",
       "      <td>no</td>\n",
       "    </tr>\n",
       "    <tr>\n",
       "      <th>4</th>\n",
       "      <td>10.1016/j.virusres.2023.199255</td>\n",
       "      <td>[{'lastname': 'Essaidi-Laziosi', 'firstname': ...</td>\n",
       "      <td>Distinct phenotype of SARS-CoV-2 Omicron BA.1 ...</td>\n",
       "      <td>2024-02-23</td>\n",
       "      <td>SARS-CoV-2's genetic plasticity has led to sev...</td>\n",
       "      <td>no</td>\n",
       "    </tr>\n",
       "    <tr>\n",
       "      <th>...</th>\n",
       "      <td>...</td>\n",
       "      <td>...</td>\n",
       "      <td>...</td>\n",
       "      <td>...</td>\n",
       "      <td>...</td>\n",
       "      <td>...</td>\n",
       "    </tr>\n",
       "    <tr>\n",
       "      <th>2485</th>\n",
       "      <td>10.1080/00034983.1975.11686983</td>\n",
       "      <td>[{'lastname': 'Moore', 'firstname': 'D L', 'in...</td>\n",
       "      <td>Arthropod-borne viral infections of man in Nig...</td>\n",
       "      <td>1975-03-01</td>\n",
       "      <td>During the years 1964 to 1970, 171 arboviruses...</td>\n",
       "      <td>no</td>\n",
       "    </tr>\n",
       "    <tr>\n",
       "      <th>2509</th>\n",
       "      <td>10.1126/science.185.4147.263</td>\n",
       "      <td>[{'lastname': 'Monath', 'firstname': 'T P', 'i...</td>\n",
       "      <td>Lassa virus isolation from Mastomys natalensis...</td>\n",
       "      <td>1974-07-19</td>\n",
       "      <td>Lassa fever is a severe febrile illness of man...</td>\n",
       "      <td>yes</td>\n",
       "    </tr>\n",
       "    <tr>\n",
       "      <th>2515</th>\n",
       "      <td>10.1017/s0022172400023627</td>\n",
       "      <td>[{'lastname': 'Sowa', 'firstname': 'J', 'initi...</td>\n",
       "      <td>Serotypes of trachoma agent isolated in the Ga...</td>\n",
       "      <td>1974-06-01</td>\n",
       "      <td>Of 60 TRIC agents isolated from Gambian childr...</td>\n",
       "      <td>no</td>\n",
       "    </tr>\n",
       "    <tr>\n",
       "      <th>2547</th>\n",
       "      <td>10.1055/s-0028-1099575</td>\n",
       "      <td>[{'lastname': 'Ogan', 'firstname': 'A U', 'ini...</td>\n",
       "      <td>An oxytocic extractive from a West African cuc...</td>\n",
       "      <td>1972-06-01</td>\n",
       "      <td>In south-east Nigeria the plant Mormordica cab...</td>\n",
       "      <td>no</td>\n",
       "    </tr>\n",
       "    <tr>\n",
       "      <th>2569</th>\n",
       "      <td>10.1128/JVI.6.5.690-692.1970</td>\n",
       "      <td>[{'lastname': 'Shope', 'firstname': 'R E', 'in...</td>\n",
       "      <td>Two African viruses serologically and morpholo...</td>\n",
       "      <td>1970-11-01</td>\n",
       "      <td>Lagos bat virus and an isolate from shrews (Ib...</td>\n",
       "      <td>no</td>\n",
       "    </tr>\n",
       "  </tbody>\n",
       "</table>\n",
       "<p>2163 rows × 6 columns</p>\n",
       "</div>"
      ],
      "text/plain": [
       "                                 doi  \\\n",
       "0           10.1051/parasite/2024009   \n",
       "1                  10.1002/jnr.25320   \n",
       "2       10.1016/j.pestbp.2023.105767   \n",
       "3       10.1016/j.ejphar.2024.176434   \n",
       "4     10.1016/j.virusres.2023.199255   \n",
       "...                              ...   \n",
       "2485  10.1080/00034983.1975.11686983   \n",
       "2509    10.1126/science.185.4147.263   \n",
       "2515       10.1017/s0022172400023627   \n",
       "2547          10.1055/s-0028-1099575   \n",
       "2569    10.1128/JVI.6.5.690-692.1970   \n",
       "\n",
       "                                                authors  \\\n",
       "0     [{'lastname': 'Juban', 'firstname': 'Paola', '...   \n",
       "1     [{'lastname': 'Marx', 'firstname': 'Harry', 'i...   \n",
       "2     [{'lastname': 'Takeda', 'firstname': 'Kazuki',...   \n",
       "3     [{'lastname': 'Bernardus Saayman', 'firstname'...   \n",
       "4     [{'lastname': 'Essaidi-Laziosi', 'firstname': ...   \n",
       "...                                                 ...   \n",
       "2485  [{'lastname': 'Moore', 'firstname': 'D L', 'in...   \n",
       "2509  [{'lastname': 'Monath', 'firstname': 'T P', 'i...   \n",
       "2515  [{'lastname': 'Sowa', 'firstname': 'J', 'initi...   \n",
       "2547  [{'lastname': 'Ogan', 'firstname': 'A U', 'ini...   \n",
       "2569  [{'lastname': 'Shope', 'firstname': 'R E', 'in...   \n",
       "\n",
       "                                                  title publication_date  \\\n",
       "0     Trypanosoma brucei gambiense group 2 experimen...       2024-03-23   \n",
       "1     Large nesting expression in deer mice remains ...       2024-03-21   \n",
       "2     Sensitivity assessment of diphacinone by pharm...       2024-03-09   \n",
       "3     Sildenafil, alone and in combination with imip...       2024-03-09   \n",
       "4     Distinct phenotype of SARS-CoV-2 Omicron BA.1 ...       2024-02-23   \n",
       "...                                                 ...              ...   \n",
       "2485  Arthropod-borne viral infections of man in Nig...       1975-03-01   \n",
       "2509  Lassa virus isolation from Mastomys natalensis...       1974-07-19   \n",
       "2515  Serotypes of trachoma agent isolated in the Ga...       1974-06-01   \n",
       "2547  An oxytocic extractive from a West African cuc...       1972-06-01   \n",
       "2569  Two African viruses serologically and morpholo...       1970-11-01   \n",
       "\n",
       "                                               abstract data_avail  \n",
       "0     Trypanosoma brucei gambiense (Tbg) group 2 is ...         no  \n",
       "1     Visual stimuli and limbic activation varyingly...         no  \n",
       "2     The Bonin Archipelago is a United Nations Educ...         no  \n",
       "3     Major depressive disorder (MDD) represents a c...         no  \n",
       "4     SARS-CoV-2's genetic plasticity has led to sev...         no  \n",
       "...                                                 ...        ...  \n",
       "2485  During the years 1964 to 1970, 171 arboviruses...         no  \n",
       "2509  Lassa fever is a severe febrile illness of man...        yes  \n",
       "2515  Of 60 TRIC agents isolated from Gambian childr...         no  \n",
       "2547  In south-east Nigeria the plant Mormordica cab...         no  \n",
       "2569  Lagos bat virus and an isolate from shrews (Ib...         no  \n",
       "\n",
       "[2163 rows x 6 columns]"
      ]
     },
     "execution_count": 18,
     "metadata": {},
     "output_type": "execute_result"
    }
   ],
   "source": [
    "df['data_avail'] = np.where(df['doi'].isin(df1), \"yes\", \"no\")\n",
    "df"
   ]
  },
  {
   "cell_type": "code",
   "execution_count": 28,
   "id": "bdd39a2d-ea59-483e-b3d3-d711dae3643d",
   "metadata": {},
   "outputs": [
    {
     "data": {
      "image/png": "[encoded data removed]",
      "text/plain": [
       "<Figure size 640x480 with 1 Axes>"
      ]
     },
     "metadata": {},
     "output_type": "display_data"
    }
   ],
   "source": [
    "import matplotlib.pyplot as plt\n",
    "y = df[\"data_avail\"] == \"yes\"\n",
    "x = df[\"data_avail\"] == \"no\"\n",
    "plt.hist(df[x][\"publication_date\"])\n",
    "plt.hist(df[y][\"publication_date\"])\n",
    "plt.show()"
   ]
  },
  {
   "cell_type": "code",
   "execution_count": 5,
   "id": "85e24982-5a5d-4d76-9a53-73767077037c",
   "metadata": {},
   "outputs": [],
   "source": [
    "df.to_csv(\"pm_search.csv\")"
   ]
  },
  {
   "cell_type": "code",
   "execution_count": null,
   "id": "a828712a-97da-4277-92ff-4b994af5a44f",
   "metadata": {},
   "outputs": [],
   "source": []
  }
 ],
 "metadata": {
  "kernelspec": {
   "display_name": "litsearch",
   "language": "python",
   "name": "litsearch"
  },
  "language_info": {
   "codemirror_mode": {
    "name": "ipython",
    "version": 3
   },
   "file_extension": ".py",
   "mimetype": "text/x-python",
   "name": "python",
   "nbconvert_exporter": "python",
   "pygments_lexer": "ipython3",
   "version": "3.12.2"
  }
 },
 "nbformat": 4,
 "nbformat_minor": 5
}
