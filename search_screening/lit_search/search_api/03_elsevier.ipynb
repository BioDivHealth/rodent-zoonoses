{
 "cells": [
  {
   "cell_type": "code",
   "execution_count": 1,
   "id": "1bdfa39c-9c47-442c-ac17-fe20d143249a",
   "metadata": {},
   "outputs": [],
   "source": [
    "import numpy as np\n",
    "import pandas as pd\n",
    "from elsapy.elsclient import ElsClient\n",
    "from elsapy.elsprofile import ElsAuthor, ElsAffil\n",
    "from elsapy.elsdoc import FullDoc, AbsDoc\n",
    "from elsapy.elssearch import ElsSearch\n",
    "import json"
   ]
  },
  {
   "cell_type": "code",
   "execution_count": 4,
   "id": "aab85d40-8e16-44d6-ada3-d1ffdb43840c",
   "metadata": {},
   "outputs": [],
   "source": [
    "## Initialize client\n",
    "client = ElsClient(\"ZYvE2y89tf9jebjHlizw75GqrxEs0qlrBvL4k4Ld\")\n",
    "client.inst_token = \"harrg@nhm\""
   ]
  },
  {
   "cell_type": "code",
   "execution_count": 5,
   "id": "cba183f0-a480-4152-8b11-e008e3e3ef1f",
   "metadata": {},
   "outputs": [
    {
     "ename": "HTTPError",
     "evalue": "HTTP 401 Error from https://api.elsevier.com/content/search/scopus?query=AFFIL%28dartmouth%29+AND+AUTHOR-NAME%28lewis%29+AND+PUBYEAR+%3E+2011\nand using headers {'X-ELS-APIKey': 'ZYvE2y89tf9jebjHlizw75GqrxEs0qlrBvL4k4Ld', 'User-Agent': 'elsapy-v0.5.1', 'Accept': 'application/json', 'X-ELS-Insttoken': 'harrg@nhm'}:\n{\"error-response\":{\"error-code\":\"APIKEY_INVALID\",\"error-message\":\"The provided apiKey is invalid.\"}}",
     "output_type": "error",
     "traceback": [
      "\u001b[1;31m---------------------------------------------------------------------------\u001b[0m",
      "\u001b[1;31mHTTPError\u001b[0m                                 Traceback (most recent call last)",
      "Cell \u001b[1;32mIn[5], line 2\u001b[0m\n\u001b[0;32m      1\u001b[0m doc_srch \u001b[38;5;241m=\u001b[39m ElsSearch(\u001b[38;5;124m\"\u001b[39m\u001b[38;5;124mAFFIL(dartmouth) AND AUTHOR-NAME(lewis) AND PUBYEAR > 2011\u001b[39m\u001b[38;5;124m\"\u001b[39m,\u001b[38;5;124m'\u001b[39m\u001b[38;5;124mscopus\u001b[39m\u001b[38;5;124m'\u001b[39m)\n\u001b[1;32m----> 2\u001b[0m \u001b[43mdoc_srch\u001b[49m\u001b[38;5;241;43m.\u001b[39;49m\u001b[43mexecute\u001b[49m\u001b[43m(\u001b[49m\u001b[43mclient\u001b[49m\u001b[43m,\u001b[49m\u001b[43m \u001b[49m\u001b[43mget_all\u001b[49m\u001b[43m \u001b[49m\u001b[38;5;241;43m=\u001b[39;49m\u001b[43m \u001b[49m\u001b[38;5;28;43;01mTrue\u001b[39;49;00m\u001b[43m)\u001b[49m\n\u001b[0;32m      3\u001b[0m \u001b[38;5;28mprint\u001b[39m (\u001b[38;5;124m\"\u001b[39m\u001b[38;5;124mdoc_srch has\u001b[39m\u001b[38;5;124m\"\u001b[39m, \u001b[38;5;28mlen\u001b[39m(doc_srch\u001b[38;5;241m.\u001b[39mresults), \u001b[38;5;124m\"\u001b[39m\u001b[38;5;124mresults.\u001b[39m\u001b[38;5;124m\"\u001b[39m)\n",
      "File \u001b[1;32m~\\AppData\\Local\\anaconda3\\envs\\litsearch\\Lib\\site-packages\\elsapy\\elssearch.py:108\u001b[0m, in \u001b[0;36mElsSearch.execute\u001b[1;34m(self, els_client, get_all, use_cursor, view, count, fields)\u001b[0m\n\u001b[0;32m    106\u001b[0m \u001b[38;5;28;01mif\u001b[39;00m view:\n\u001b[0;32m    107\u001b[0m     url \u001b[38;5;241m+\u001b[39m\u001b[38;5;241m=\u001b[39m \u001b[38;5;124m\"\u001b[39m\u001b[38;5;124m&view=\u001b[39m\u001b[38;5;132;01m{}\u001b[39;00m\u001b[38;5;124m\"\u001b[39m\u001b[38;5;241m.\u001b[39mformat(view)\n\u001b[1;32m--> 108\u001b[0m api_response \u001b[38;5;241m=\u001b[39m \u001b[43mels_client\u001b[49m\u001b[38;5;241;43m.\u001b[39;49m\u001b[43mexec_request\u001b[49m\u001b[43m(\u001b[49m\u001b[43murl\u001b[49m\u001b[43m)\u001b[49m\n\u001b[0;32m    109\u001b[0m \u001b[38;5;28mself\u001b[39m\u001b[38;5;241m.\u001b[39m_tot_num_res \u001b[38;5;241m=\u001b[39m \u001b[38;5;28mint\u001b[39m(api_response[\u001b[38;5;124m'\u001b[39m\u001b[38;5;124msearch-results\u001b[39m\u001b[38;5;124m'\u001b[39m][\u001b[38;5;124m'\u001b[39m\u001b[38;5;124mopensearch:totalResults\u001b[39m\u001b[38;5;124m'\u001b[39m])\n\u001b[0;32m    110\u001b[0m \u001b[38;5;28mself\u001b[39m\u001b[38;5;241m.\u001b[39m_results \u001b[38;5;241m=\u001b[39m api_response[\u001b[38;5;124m'\u001b[39m\u001b[38;5;124msearch-results\u001b[39m\u001b[38;5;124m'\u001b[39m][\u001b[38;5;124m'\u001b[39m\u001b[38;5;124mentry\u001b[39m\u001b[38;5;124m'\u001b[39m]\n",
      "File \u001b[1;32m~\\AppData\\Local\\anaconda3\\envs\\litsearch\\Lib\\site-packages\\elsapy\\elsclient.py:121\u001b[0m, in \u001b[0;36mElsClient.exec_request\u001b[1;34m(self, URL)\u001b[0m\n\u001b[0;32m    119\u001b[0m \u001b[38;5;28;01melse\u001b[39;00m:\n\u001b[0;32m    120\u001b[0m     \u001b[38;5;28mself\u001b[39m\u001b[38;5;241m.\u001b[39m_status_msg\u001b[38;5;241m=\u001b[39m\u001b[38;5;124m\"\u001b[39m\u001b[38;5;124mHTTP \u001b[39m\u001b[38;5;124m\"\u001b[39m \u001b[38;5;241m+\u001b[39m \u001b[38;5;28mstr\u001b[39m(r\u001b[38;5;241m.\u001b[39mstatus_code) \u001b[38;5;241m+\u001b[39m \u001b[38;5;124m\"\u001b[39m\u001b[38;5;124m Error from \u001b[39m\u001b[38;5;124m\"\u001b[39m \u001b[38;5;241m+\u001b[39m URL \u001b[38;5;241m+\u001b[39m \u001b[38;5;124m\"\u001b[39m\u001b[38;5;124m and using headers \u001b[39m\u001b[38;5;124m\"\u001b[39m \u001b[38;5;241m+\u001b[39m \u001b[38;5;28mstr\u001b[39m(headers) \u001b[38;5;241m+\u001b[39m \u001b[38;5;124m\"\u001b[39m\u001b[38;5;124m: \u001b[39m\u001b[38;5;124m\"\u001b[39m \u001b[38;5;241m+\u001b[39m r\u001b[38;5;241m.\u001b[39mtext\n\u001b[1;32m--> 121\u001b[0m     \u001b[38;5;28;01mraise\u001b[39;00m requests\u001b[38;5;241m.\u001b[39mHTTPError(\u001b[38;5;124m\"\u001b[39m\u001b[38;5;124mHTTP \u001b[39m\u001b[38;5;124m\"\u001b[39m \u001b[38;5;241m+\u001b[39m \u001b[38;5;28mstr\u001b[39m(r\u001b[38;5;241m.\u001b[39mstatus_code) \u001b[38;5;241m+\u001b[39m \u001b[38;5;124m\"\u001b[39m\u001b[38;5;124m Error from \u001b[39m\u001b[38;5;124m\"\u001b[39m \u001b[38;5;241m+\u001b[39m URL \u001b[38;5;241m+\u001b[39m \u001b[38;5;124m\"\u001b[39m\u001b[38;5;130;01m\\n\u001b[39;00m\u001b[38;5;124mand using headers \u001b[39m\u001b[38;5;124m\"\u001b[39m \u001b[38;5;241m+\u001b[39m \u001b[38;5;28mstr\u001b[39m(headers) \u001b[38;5;241m+\u001b[39m \u001b[38;5;124m\"\u001b[39m\u001b[38;5;124m:\u001b[39m\u001b[38;5;130;01m\\n\u001b[39;00m\u001b[38;5;124m\"\u001b[39m \u001b[38;5;241m+\u001b[39m r\u001b[38;5;241m.\u001b[39mtext)\n",
      "\u001b[1;31mHTTPError\u001b[0m: HTTP 401 Error from https://api.elsevier.com/content/search/scopus?query=AFFIL%28dartmouth%29+AND+AUTHOR-NAME%28lewis%29+AND+PUBYEAR+%3E+2011\nand using headers {'X-ELS-APIKey': 'ZYvE2y89tf9jebjHlizw75GqrxEs0qlrBvL4k4Ld', 'User-Agent': 'elsapy-v0.5.1', 'Accept': 'application/json', 'X-ELS-Insttoken': 'harrg@nhm'}:\n{\"error-response\":{\"error-code\":\"APIKEY_INVALID\",\"error-message\":\"The provided apiKey is invalid.\"}}"
     ]
    }
   ],
   "source": [
    "doc_srch = ElsSearch(\"AFFIL(dartmouth) AND AUTHOR-NAME(lewis) AND PUBYEAR > 2011\",'scopus')\n",
    "doc_srch.execute(client, get_all = True)\n",
    "print (\"doc_srch has\", len(doc_srch.results), \"results.\")"
   ]
  },
  {
   "cell_type": "code",
   "execution_count": null,
   "id": "7500ee07-3d78-4d6b-8d41-4b9bae1f5be7",
   "metadata": {},
   "outputs": [],
   "source": []
  }
 ],
 "metadata": {
  "kernelspec": {
   "display_name": "litsearch",
   "language": "python",
   "name": "litsearch"
  },
  "language_info": {
   "codemirror_mode": {
    "name": "ipython",
    "version": 3
   },
   "file_extension": ".py",
   "mimetype": "text/x-python",
   "name": "python",
   "nbconvert_exporter": "python",
   "pygments_lexer": "ipython3",
   "version": "3.12.2"
  }
 },
 "nbformat": 4,
 "nbformat_minor": 5
}
